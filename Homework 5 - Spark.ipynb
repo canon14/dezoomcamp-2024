{
 "cells": [
  {
   "cell_type": "code",
   "execution_count": 18,
   "id": "46be6235",
   "metadata": {},
   "outputs": [],
   "source": [
    "import pyspark\n",
    "import pandas as pd\n",
    "\n",
    "from pyspark.conf import SparkConf\n",
    "from pyspark.context import SparkContext\n",
    "from pyspark.sql import SparkSession\n",
    "from pyspark.sql import types\n",
    "from pyspark.sql import functions as F"
   ]
  },
  {
   "cell_type": "code",
   "execution_count": 19,
   "id": "5dbfd92c",
   "metadata": {},
   "outputs": [
    {
     "data": {
      "text/plain": [
       "'/home/gianluca/spark/spark-3.5.0-bin-hadoop3/python/pyspark/__init__.py'"
      ]
     },
     "execution_count": 19,
     "metadata": {},
     "output_type": "execute_result"
    }
   ],
   "source": [
    "pyspark.__file__"
   ]
  },
  {
   "cell_type": "code",
   "execution_count": 20,
   "id": "329cce46",
   "metadata": {},
   "outputs": [
    {
     "data": {
      "text/plain": [
       "'3.5.0'"
      ]
     },
     "execution_count": 20,
     "metadata": {},
     "output_type": "execute_result"
    }
   ],
   "source": [
    "spark.version"
   ]
  },
  {
   "cell_type": "code",
   "execution_count": null,
   "id": "fb0ce915",
   "metadata": {},
   "outputs": [],
   "source": [
    "# import raw data\n",
    "# !wget https://s3.amazonaws.com/nyc-tlc/misc/taxi+_zone_lookup.csv\n",
    "# !wget https://github.com/DataTalksClub/nyc-tlc-data/releases/download/fhv/fhv_tripdata_2019-10.csv.gz"
   ]
  },
  {
   "cell_type": "code",
   "execution_count": null,
   "id": "228c5f4c",
   "metadata": {},
   "outputs": [],
   "source": [
    "# check raw data \n",
    "# !head data/taxi+_zone_lookup.csv"
   ]
  },
  {
   "cell_type": "code",
   "execution_count": null,
   "id": "6637351b",
   "metadata": {},
   "outputs": [],
   "source": [
    "# write output data as parquet\n",
    "# df.write.parquet('data/zones')"
   ]
  },
  {
   "cell_type": "code",
   "execution_count": null,
   "id": "bb59adb0",
   "metadata": {},
   "outputs": [],
   "source": [
    "# df_fhv = spark.read \\\n",
    "#     .option(\"header\", \"true\") \\\n",
    "#     .csv('fhv_tripdata_2019-10.csv.gz')"
   ]
  },
  {
   "cell_type": "code",
   "execution_count": null,
   "id": "63332d23",
   "metadata": {},
   "outputs": [],
   "source": [
    "# convert data type using pandas\n",
    "\n",
    "# df_pandas = pd.read_csv('fhv_tripdata_2019-10.csv.gz')\n",
    "\n",
    "# df_pandas.dtypes"
   ]
  },
  {
   "cell_type": "code",
   "execution_count": null,
   "id": "1a897c9a",
   "metadata": {},
   "outputs": [],
   "source": [
    "# CREATE SCHEMA FOR OUR PARQUET FILE\n",
    "\n",
    "# fhv_schema = types.StructType([\n",
    "#     types.StructField('dispatching_base_num', types.StringType(), True),\n",
    "#     types.StructField('pickup_datetime', types.TimestampType(), True),\n",
    "#     types.StructField('dropOff_datetime', types.TimestampType(), True),\n",
    "#     types.StructField('PUlocationID', types.IntegerType(), True),\n",
    "#     types.StructField('DOLocationID', types.IntegerType(), True),\n",
    "#     types.StructField('SR_Flag', types.StringType(), True),\n",
    "#     types.StructField('Affiliated_base_number', types.StringType(), True),\n",
    "# ])"
   ]
  },
  {
   "cell_type": "code",
   "execution_count": null,
   "id": "9afb6c01",
   "metadata": {},
   "outputs": [],
   "source": [
    "# df_fhv = spark.read \\\n",
    "#     .option(\"header\", \"true\") \\\n",
    "#     .schema(fhv_schema) \\\n",
    "#     .csv('fhv_tripdata_2019-10.csv.gz')"
   ]
  },
  {
   "cell_type": "code",
   "execution_count": null,
   "id": "1495b6a4",
   "metadata": {},
   "outputs": [],
   "source": [
    "# df_fhv.show()"
   ]
  },
  {
   "cell_type": "code",
   "execution_count": null,
   "id": "7283de5d",
   "metadata": {},
   "outputs": [],
   "source": [
    "# df_fhv.printSchema()"
   ]
  },
  {
   "cell_type": "code",
   "execution_count": null,
   "id": "a10bc4fa",
   "metadata": {},
   "outputs": [],
   "source": [
    "# Repartition the fhv Dataframe to 6 partitions and save it to parquet.\n",
    "# df_fhv = df_fhv.repartition(6)"
   ]
  },
  {
   "cell_type": "code",
   "execution_count": null,
   "id": "9105638a",
   "metadata": {},
   "outputs": [],
   "source": [
    "# df_fhv.write.parquet('data/fhv/2019/10/')"
   ]
  },
  {
   "cell_type": "markdown",
   "id": "14dbc263",
   "metadata": {},
   "source": [
    "What is the average size of the Parquet (ending with .parquet extension) Files that were created (in MB)? Select the answer which most closely matches.\n",
    "\n",
    "Answer = 6MB"
   ]
  },
  {
   "cell_type": "code",
   "execution_count": 3,
   "id": "fe0faed4",
   "metadata": {},
   "outputs": [],
   "source": [
    "# spark gcp configuration\n",
    "credentials_location = '/home/gianluca/notebooks/gcp_credentials.json'\n",
    "\n",
    "conf = SparkConf() \\\n",
    "    .setMaster('local[*]') \\\n",
    "    .setAppName('test') \\\n",
    "    .set(\"spark.jars\", \"/home/gianluca/lib/gcs-connector-hadoop3-2.2.5.jar\") \\\n",
    "    .set(\"spark.hadoop.google.cloud.auth.service.account.enable\", \"true\") \\\n",
    "    .set(\"spark.hadoop.google.cloud.auth.service.account.json.keyfile\", credentials_location)"
   ]
  },
  {
   "cell_type": "code",
   "execution_count": 4,
   "id": "73c8c67c",
   "metadata": {},
   "outputs": [
    {
     "name": "stderr",
     "output_type": "stream",
     "text": [
      "24/02/24 20:17:15 WARN NativeCodeLoader: Unable to load native-hadoop library for your platform... using builtin-java classes where applicable\n",
      "Setting default log level to \"WARN\".\n",
      "To adjust logging level use sc.setLogLevel(newLevel). For SparkR, use setLogLevel(newLevel).\n"
     ]
    }
   ],
   "source": [
    "# spark gcp context\n",
    "sc = SparkContext(conf=conf)\n",
    "\n",
    "hadoop_conf = sc._jsc.hadoopConfiguration()\n",
    "\n",
    "hadoop_conf.set(\"fs.AbstractFileSystem.gs.impl\",  \"com.google.cloud.hadoop.fs.gcs.GoogleHadoopFS\")\n",
    "hadoop_conf.set(\"fs.gs.impl\", \"com.google.cloud.hadoop.fs.gcs.GoogleHadoopFileSystem\")\n",
    "hadoop_conf.set(\"fs.gs.auth.service.account.json.keyfile\", credentials_location)\n",
    "hadoop_conf.set(\"fs.gs.auth.service.account.enable\", \"true\")"
   ]
  },
  {
   "cell_type": "code",
   "execution_count": 5,
   "id": "a3ffdbe9",
   "metadata": {},
   "outputs": [],
   "source": [
    "# spark gcp create session\n",
    "spark = SparkSession.builder \\\n",
    "    .config(conf=sc.getConf()) \\\n",
    "    .getOrCreate()"
   ]
  },
  {
   "cell_type": "code",
   "execution_count": 6,
   "id": "5473396e",
   "metadata": {},
   "outputs": [
    {
     "name": "stderr",
     "output_type": "stream",
     "text": [
      "                                                                                \r"
     ]
    }
   ],
   "source": [
    "df_fhv_pq = spark.read.parquet('gs://dtc_data_lake_de-zoomcamp-hw5/data/fhv/*/*/*')"
   ]
  },
  {
   "cell_type": "code",
   "execution_count": 7,
   "id": "78bc0aa6",
   "metadata": {},
   "outputs": [
    {
     "name": "stderr",
     "output_type": "stream",
     "text": [
      "                                                                                \r"
     ]
    },
    {
     "name": "stdout",
     "output_type": "stream",
     "text": [
      "+--------------------+-------------------+-------------------+------------+------------+-------+----------------------+\n",
      "|dispatching_base_num|    pickup_datetime|   dropOff_datetime|PUlocationID|DOLocationID|SR_Flag|Affiliated_base_number|\n",
      "+--------------------+-------------------+-------------------+------------+------------+-------+----------------------+\n",
      "|              B02784|2019-10-01 09:55:38|2019-10-01 10:05:43|          89|          85|   NULL|                  NULL|\n",
      "|              B02429|2019-10-21 04:15:47|2019-10-21 04:36:04|         264|         264|   NULL|                B02429|\n",
      "+--------------------+-------------------+-------------------+------------+------------+-------+----------------------+\n",
      "only showing top 2 rows\n",
      "\n"
     ]
    }
   ],
   "source": [
    "df_fhv_pq.show(2)"
   ]
  },
  {
   "cell_type": "code",
   "execution_count": 8,
   "id": "2310037c",
   "metadata": {},
   "outputs": [
    {
     "name": "stdout",
     "output_type": "stream",
     "text": [
      "root\n",
      " |-- dispatching_base_num: string (nullable = true)\n",
      " |-- pickup_datetime: timestamp (nullable = true)\n",
      " |-- dropOff_datetime: timestamp (nullable = true)\n",
      " |-- PUlocationID: integer (nullable = true)\n",
      " |-- DOLocationID: integer (nullable = true)\n",
      " |-- SR_Flag: string (nullable = true)\n",
      " |-- Affiliated_base_number: string (nullable = true)\n",
      "\n"
     ]
    }
   ],
   "source": [
    "df_fhv_pq.printSchema()"
   ]
  },
  {
   "cell_type": "code",
   "execution_count": 9,
   "id": "16107d48",
   "metadata": {},
   "outputs": [],
   "source": [
    "# create SQL temp table to start writing SQL queries on fhv data\n",
    "df_fhv_pq.createOrReplaceTempView('fhv_oct_trips_data')"
   ]
  },
  {
   "cell_type": "code",
   "execution_count": 10,
   "id": "17a55ad4",
   "metadata": {},
   "outputs": [
    {
     "name": "stderr",
     "output_type": "stream",
     "text": [
      "[Stage 2:=======================================>                   (4 + 2) / 6]\r"
     ]
    },
    {
     "name": "stdout",
     "output_type": "stream",
     "text": [
      "+-------------------+----------+\n",
      "|        pickup_date|trip_count|\n",
      "+-------------------+----------+\n",
      "|2019-10-15 00:00:00|     62610|\n",
      "+-------------------+----------+\n",
      "\n"
     ]
    },
    {
     "name": "stderr",
     "output_type": "stream",
     "text": [
      "\r",
      "                                                                                \r"
     ]
    }
   ],
   "source": [
    "# Question 3:\n",
    "# Count records\n",
    "\n",
    "# How many taxi trips were there on the 15th of October?\n",
    "\n",
    "spark.sql(\"\"\"\n",
    "    SELECT \n",
    "        date_trunc('day', pickup_datetime) AS pickup_date,\n",
    "        count(*) as trip_count\n",
    "    FROM fhv_oct_trips_data\n",
    "    WHERE date_trunc('day', pickup_datetime) = '2019-10-15 00:00:00'\n",
    "    GROUP BY 1\n",
    "\"\"\").show()"
   ]
  },
  {
   "cell_type": "code",
   "execution_count": 11,
   "id": "fb0283db",
   "metadata": {},
   "outputs": [
    {
     "name": "stderr",
     "output_type": "stream",
     "text": [
      "[Stage 5:=======================================>                   (4 + 2) / 6]\r"
     ]
    },
    {
     "name": "stdout",
     "output_type": "stream",
     "text": [
      "+--------------------+\n",
      "|max_hours_difference|\n",
      "+--------------------+\n",
      "|              631152|\n",
      "+--------------------+\n",
      "\n"
     ]
    },
    {
     "name": "stderr",
     "output_type": "stream",
     "text": [
      "\r",
      "                                                                                \r"
     ]
    }
   ],
   "source": [
    "# Question 4:\n",
    "# Longest trip for each day\n",
    "\n",
    "# What is the length of the longest trip in the dataset in hours?\n",
    "\n",
    "spark.sql(\"\"\"\n",
    "    SELECT \n",
    "        MAX(DATEDIFF(hour, pickup_datetime, dropOff_datetime)) as max_hours_difference\n",
    "    FROM fhv_oct_trips_data\n",
    "\"\"\").show()"
   ]
  },
  {
   "cell_type": "code",
   "execution_count": 12,
   "id": "500d5409",
   "metadata": {},
   "outputs": [],
   "source": [
    "# Question 5:\n",
    "# User Interface\n",
    "\n",
    "# Spark’s User Interface which shows the application's dashboard runs on which local port? 4040"
   ]
  },
  {
   "cell_type": "markdown",
   "id": "2e021e61",
   "metadata": {},
   "source": [
    "Question 6:\n",
    "Least frequent pickup location zone\n",
    "\n",
    "Load the zone lookup data into a temp view in Spark\n",
    "Zone Data\n",
    "\n",
    "Using the zone lookup data and the FHV October 2019 data, what is the name of the LEAST frequent pickup location Zone?"
   ]
  },
  {
   "cell_type": "code",
   "execution_count": 13,
   "id": "a399be5a",
   "metadata": {},
   "outputs": [
    {
     "name": "stdout",
     "output_type": "stream",
     "text": [
      "+----------+-------------+--------------------+------------+\n",
      "|LocationID|      Borough|                Zone|service_zone|\n",
      "+----------+-------------+--------------------+------------+\n",
      "|         1|          EWR|      Newark Airport|         EWR|\n",
      "|         2|       Queens|         Jamaica Bay|   Boro Zone|\n",
      "|         3|        Bronx|Allerton/Pelham G...|   Boro Zone|\n",
      "|         4|    Manhattan|       Alphabet City| Yellow Zone|\n",
      "|         5|Staten Island|       Arden Heights|   Boro Zone|\n",
      "|         6|Staten Island|Arrochar/Fort Wad...|   Boro Zone|\n",
      "|         7|       Queens|             Astoria|   Boro Zone|\n",
      "|         8|       Queens|        Astoria Park|   Boro Zone|\n",
      "|         9|       Queens|          Auburndale|   Boro Zone|\n",
      "|        10|       Queens|        Baisley Park|   Boro Zone|\n",
      "|        11|     Brooklyn|          Bath Beach|   Boro Zone|\n",
      "|        12|    Manhattan|        Battery Park| Yellow Zone|\n",
      "|        13|    Manhattan|   Battery Park City| Yellow Zone|\n",
      "|        14|     Brooklyn|           Bay Ridge|   Boro Zone|\n",
      "|        15|       Queens|Bay Terrace/Fort ...|   Boro Zone|\n",
      "|        16|       Queens|             Bayside|   Boro Zone|\n",
      "|        17|     Brooklyn|             Bedford|   Boro Zone|\n",
      "|        18|        Bronx|        Bedford Park|   Boro Zone|\n",
      "|        19|       Queens|           Bellerose|   Boro Zone|\n",
      "|        20|        Bronx|             Belmont|   Boro Zone|\n",
      "+----------+-------------+--------------------+------------+\n",
      "only showing top 20 rows\n",
      "\n"
     ]
    }
   ],
   "source": [
    "df_zone_lookup = spark.read.parquet('gs://dtc_data_lake_de-zoomcamp-hw5/data/zones/*')\n",
    "\n",
    "df_zone_lookup.show()"
   ]
  },
  {
   "cell_type": "code",
   "execution_count": 14,
   "id": "90990643",
   "metadata": {},
   "outputs": [],
   "source": [
    "# join zone look up with the fhv trips data to answer question no. 6\n",
    "df_join = df_fhv_pq.join(df_zone_lookup, df_fhv_pq.PUlocationID == df_zone_lookup.LocationID, how='inner')"
   ]
  },
  {
   "cell_type": "code",
   "execution_count": 15,
   "id": "42f81212",
   "metadata": {},
   "outputs": [],
   "source": [
    "df_join.createOrReplaceTempView('fhv_joined_zones_data')"
   ]
  },
  {
   "cell_type": "code",
   "execution_count": 16,
   "id": "3e64529c",
   "metadata": {},
   "outputs": [
    {
     "name": "stderr",
     "output_type": "stream",
     "text": [
      "\r",
      "[Stage 11:======================================>                   (4 + 2) / 6]\r",
      "\r",
      "[Stage 11:================================================>         (5 + 1) / 6]\r"
     ]
    },
    {
     "name": "stdout",
     "output_type": "stream",
     "text": [
      "+-------------------+-----------------+\n",
      "|               Zone|zone_pickup_count|\n",
      "+-------------------+-----------------+\n",
      "|Crown Heights North|             3036|\n",
      "|           Union Sq|             1893|\n",
      "|       East Chelsea|             1381|\n",
      "|        Jamaica Bay|                1|\n",
      "+-------------------+-----------------+\n",
      "\n"
     ]
    },
    {
     "name": "stderr",
     "output_type": "stream",
     "text": [
      "\r",
      "                                                                                \r"
     ]
    }
   ],
   "source": [
    "spark.sql(\"\"\"\n",
    "    SELECT \n",
    "        Zone,\n",
    "        count(*) as zone_pickup_count\n",
    "    FROM fhv_joined_zones_data\n",
    "    WHERE Zone in ('East Chelsea', 'Jamaica Bay', 'Union Sq', 'Crown Heights North')\n",
    "    GROUP BY Zone\n",
    "\"\"\").show()"
   ]
  },
  {
   "cell_type": "code",
   "execution_count": null,
   "id": "0db97079",
   "metadata": {},
   "outputs": [],
   "source": []
  }
 ],
 "metadata": {
  "kernelspec": {
   "display_name": "Python 3 (ipykernel)",
   "language": "python",
   "name": "python3"
  },
  "language_info": {
   "codemirror_mode": {
    "name": "ipython",
    "version": 3
   },
   "file_extension": ".py",
   "mimetype": "text/x-python",
   "name": "python",
   "nbconvert_exporter": "python",
   "pygments_lexer": "ipython3",
   "version": "3.11.5"
  }
 },
 "nbformat": 4,
 "nbformat_minor": 5
}
